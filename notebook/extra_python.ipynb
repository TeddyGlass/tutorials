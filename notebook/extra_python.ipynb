{
 "cells": [
  {
   "cell_type": "markdown",
   "metadata": {},
   "source": [
    "# Python プログラミング基礎編  \n",
    "基本中の基本みたいなことをまとめました. ネットで調べれば大抵は載ってますが, 入りとしてある程度まとまっていた方がよいと思い作成しました.  \n",
    "これ以外で気になった部分についてはGoogle検索などで対応できると思いますので, Pythonの詳細な仕様については説明を省きます."
   ]
  },
  {
   "cell_type": "markdown",
   "metadata": {},
   "source": [
    "## 変数\n",
    "Pythonでは変数に値を代入することができます. 試しに```hoge```という変数に値を入れてみましょう"
   ]
  },
  {
   "cell_type": "code",
   "execution_count": 1,
   "metadata": {},
   "outputs": [],
   "source": [
    "hoge = 1"
   ]
  },
  {
   "cell_type": "markdown",
   "metadata": {},
   "source": [
    "```hoge```を実行することで, 変数に入力した値を出力することができます.  \n",
    "プログラムは, 様々な変数に値を代入しながら変数同士をどのように演算するかを記述したものになります."
   ]
  },
  {
   "cell_type": "code",
   "execution_count": 2,
   "metadata": {},
   "outputs": [
    {
     "data": {
      "text/plain": [
       "1"
      ]
     },
     "execution_count": 2,
     "metadata": {},
     "output_type": "execute_result"
    }
   ],
   "source": [
    "hoge"
   ]
  },
  {
   "cell_type": "markdown",
   "metadata": {},
   "source": [
    "## データ型\n",
    "データ型とは, 物理や化学でいうところの単位のようなものです. コンピュータでもデータに対して演算を実行することができますが, データ型が異なるもの同士では演算が実行できない場合があります. これは, 物理や化学で異なる単位のものを足したり引いたりできない話と似ています.  \n",
    "ここでは, 基本的なデータ型を紹介します."
   ]
  },
  {
   "cell_type": "markdown",
   "metadata": {},
   "source": [
    "**int型**はインテジャーと呼ばれ, 整数を表現するデータ型です."
   ]
  },
  {
   "cell_type": "code",
   "execution_count": 5,
   "metadata": {},
   "outputs": [
    {
     "name": "stdout",
     "output_type": "stream",
     "text": [
      "<class 'int'>\n"
     ]
    }
   ],
   "source": [
    "# type()は中身のデータ型を返す演算\n",
    "# print()は中身を表示する演算\n",
    "print(type(1))"
   ]
  },
  {
   "cell_type": "markdown",
   "metadata": {},
   "source": [
    "**float型**は, 浮動小数点とも呼ばれ, 実数全体を表すデータ型です. 小数点以下を記述したい場合などに用いられます."
   ]
  },
  {
   "cell_type": "code",
   "execution_count": 8,
   "metadata": {},
   "outputs": [
    {
     "name": "stdout",
     "output_type": "stream",
     "text": [
      "<class 'float'>\n"
     ]
    }
   ],
   "source": [
    "print(type(1.0))"
   ]
  },
  {
   "cell_type": "markdown",
   "metadata": {},
   "source": [
    "**str型**は文字を表現するデータ型です. Pythonでは文字列はシングルクォーテーション「'」かダブルクォーテーション「\"」で括ることで表現されます."
   ]
  },
  {
   "cell_type": "code",
   "execution_count": 9,
   "metadata": {},
   "outputs": [
    {
     "name": "stdout",
     "output_type": "stream",
     "text": [
      "<class 'str'>\n"
     ]
    }
   ],
   "source": [
    "print(type('1'))"
   ]
  },
  {
   "cell_type": "markdown",
   "metadata": {},
   "source": [
    "int型とloat型をの演算を行うとfloat型になります."
   ]
  },
  {
   "cell_type": "code",
   "execution_count": 20,
   "metadata": {},
   "outputs": [
    {
     "name": "stdout",
     "output_type": "stream",
     "text": [
      "2.0\n",
      "<class 'float'>\n"
     ]
    }
   ],
   "source": [
    "# int()は中身をint型で返す演算\n",
    "result = int(1) + 1.0\n",
    "print(result)\n",
    "print(type(result))"
   ]
  },
  {
   "cell_type": "code",
   "execution_count": 21,
   "metadata": {},
   "outputs": [
    {
     "name": "stdout",
     "output_type": "stream",
     "text": [
      "0.0\n",
      "<class 'float'>\n"
     ]
    }
   ],
   "source": [
    "result = int(1) - 1.0\n",
    "print(result)\n",
    "print(type(result))"
   ]
  },
  {
   "cell_type": "code",
   "execution_count": 22,
   "metadata": {},
   "outputs": [
    {
     "name": "stdout",
     "output_type": "stream",
     "text": [
      "1.0\n",
      "<class 'float'>\n"
     ]
    }
   ],
   "source": [
    "result = int(1) * 1.0\n",
    "print(result)\n",
    "print(type(result))"
   ]
  },
  {
   "cell_type": "code",
   "execution_count": 23,
   "metadata": {},
   "outputs": [
    {
     "name": "stdout",
     "output_type": "stream",
     "text": [
      "1.0\n",
      "<class 'float'>\n"
     ]
    }
   ],
   "source": [
    "result = int(1) / 1.0\n",
    "print(result)\n",
    "print(type(result))"
   ]
  },
  {
   "cell_type": "markdown",
   "metadata": {},
   "source": [
    "int型あるいはfloat型とstr型の足し算はできません"
   ]
  },
  {
   "cell_type": "code",
   "execution_count": 18,
   "metadata": {},
   "outputs": [
    {
     "ename": "TypeError",
     "evalue": "can only concatenate str (not \"float\") to str",
     "output_type": "error",
     "traceback": [
      "\u001b[0;31m---------------------------------------------------------------------------\u001b[0m",
      "\u001b[0;31mTypeError\u001b[0m                                 Traceback (most recent call last)",
      "\u001b[1;32m/Users/kurosaki/Documents/code/tutorials/notebook/extra_python.ipynb Cell 16'\u001b[0m in \u001b[0;36m<cell line: 1>\u001b[0;34m()\u001b[0m\n\u001b[0;32m----> <a href='vscode-notebook-cell:/Users/kurosaki/Documents/code/tutorials/notebook/extra_python.ipynb#ch0000030?line=0'>1</a>\u001b[0m \u001b[39m\"\u001b[39;49m\u001b[39m1\u001b[39;49m\u001b[39m\"\u001b[39;49m \u001b[39m+\u001b[39;49m \u001b[39mfloat\u001b[39;49m(\u001b[39m1\u001b[39;49m)\n",
      "\u001b[0;31mTypeError\u001b[0m: can only concatenate str (not \"float\") to str"
     ]
    }
   ],
   "source": [
    "\"1\" + float(1)"
   ]
  },
  {
   "cell_type": "code",
   "execution_count": 19,
   "metadata": {},
   "outputs": [
    {
     "ename": "TypeError",
     "evalue": "can only concatenate str (not \"int\") to str",
     "output_type": "error",
     "traceback": [
      "\u001b[0;31m---------------------------------------------------------------------------\u001b[0m",
      "\u001b[0;31mTypeError\u001b[0m                                 Traceback (most recent call last)",
      "\u001b[1;32m/Users/kurosaki/Documents/code/tutorials/notebook/extra_python.ipynb Cell 17'\u001b[0m in \u001b[0;36m<cell line: 1>\u001b[0;34m()\u001b[0m\n\u001b[0;32m----> <a href='vscode-notebook-cell:/Users/kurosaki/Documents/code/tutorials/notebook/extra_python.ipynb#ch0000031?line=0'>1</a>\u001b[0m \u001b[39m\"\u001b[39;49m\u001b[39m1\u001b[39;49m\u001b[39m\"\u001b[39;49m \u001b[39m+\u001b[39;49m \u001b[39mint\u001b[39;49m(\u001b[39m1\u001b[39;49m)\n",
      "\u001b[0;31mTypeError\u001b[0m: can only concatenate str (not \"int\") to str"
     ]
    }
   ],
   "source": [
    "\"1\" + int(1)"
   ]
  },
  {
   "cell_type": "markdown",
   "metadata": {},
   "source": [
    "int型の文字列を足し合わせると新しい文字列ができます"
   ]
  },
  {
   "cell_type": "code",
   "execution_count": 26,
   "metadata": {},
   "outputs": [
    {
     "data": {
      "text/plain": [
       "'hogegeho'"
      ]
     },
     "execution_count": 26,
     "metadata": {},
     "output_type": "execute_result"
    }
   ],
   "source": [
    "'hoge' + 'geho'"
   ]
  },
  {
   "cell_type": "markdown",
   "metadata": {},
   "source": [
    "int型の文字列に数字$n$を書けることで文字列を$n$個連結することができます  \n",
    "a * 3 = a + a + a  \n",
    "の考え方と一緒です"
   ]
  },
  {
   "cell_type": "code",
   "execution_count": 27,
   "metadata": {},
   "outputs": [
    {
     "data": {
      "text/plain": [
       "'hogehogehoge'"
      ]
     },
     "execution_count": 27,
     "metadata": {},
     "output_type": "execute_result"
    }
   ],
   "source": [
    "'hoge' * 3"
   ]
  },
  {
   "cell_type": "markdown",
   "metadata": {},
   "source": [
    "## データ構造\n",
    "データ構造とは, データの集まりをコンピュータプログラムで扱いやすいように一定の形式で格納したものです. データ構造をうまく扱うことで, コンピュータに効率的に処理を行わせることができます."
   ]
  },
  {
   "cell_type": "markdown",
   "metadata": {},
   "source": [
    "### 配列(リスト)\n",
    "配列とは, データを線形に(直線的に, あるいは逐次的に)保存しておくためのデータ構造です.  \n",
    "リストは```[]```によって定義することができます."
   ]
  },
  {
   "cell_type": "code",
   "execution_count": 29,
   "metadata": {},
   "outputs": [
    {
     "name": "stdout",
     "output_type": "stream",
     "text": [
      "[]\n",
      "<class 'list'>\n"
     ]
    }
   ],
   "source": [
    "list_ = [] # 空のリストを生成\n",
    "print(list_)\n",
    "print(type(list_))"
   ]
  },
  {
   "cell_type": "markdown",
   "metadata": {},
   "source": [
    "リストに適当に値を格納してみます."
   ]
  },
  {
   "cell_type": "code",
   "execution_count": 31,
   "metadata": {},
   "outputs": [
    {
     "name": "stdout",
     "output_type": "stream",
     "text": [
      "[1, 2, 3]\n",
      "<class 'list'>\n"
     ]
    }
   ],
   "source": [
    "list_ = [1, 2, 3]\n",
    "print(list_)\n",
    "print(type(list_))"
   ]
  },
  {
   "cell_type": "markdown",
   "metadata": {},
   "source": [
    "リストの中身のデータ型が全て一致している必要はありません."
   ]
  },
  {
   "cell_type": "code",
   "execution_count": 33,
   "metadata": {},
   "outputs": [
    {
     "name": "stdout",
     "output_type": "stream",
     "text": [
      "['1', 2, 3]\n",
      "<class 'list'>\n"
     ]
    }
   ],
   "source": [
    "list_ = ['1', 2, 3]\n",
    "print(list_)\n",
    "print(type(list_))"
   ]
  },
  {
   "cell_type": "markdown",
   "metadata": {},
   "source": [
    "リストの中身と取り出すには, ```変数名[番号]```のように記述すれば出力できます. Pythonでは番号0が１番目に対応するので注意が必要です.  \n",
    "この番号のことを**インデックス**と呼びます."
   ]
  },
  {
   "cell_type": "code",
   "execution_count": 37,
   "metadata": {},
   "outputs": [
    {
     "name": "stdout",
     "output_type": "stream",
     "text": [
      "1\n",
      "<class 'int'>\n"
     ]
    }
   ],
   "source": [
    "list_ = [1, 2, 3]\n",
    "print(list_[0])\n",
    "print(type(list_[0]))"
   ]
  },
  {
   "cell_type": "markdown",
   "metadata": {},
   "source": [
    "リストには**ミュータブル**という性質があります. これは, 任意にリストの中身を入れ替えることができる性質です."
   ]
  },
  {
   "cell_type": "code",
   "execution_count": 39,
   "metadata": {},
   "outputs": [
    {
     "name": "stdout",
     "output_type": "stream",
     "text": [
      "['hoge', 2, 3]\n"
     ]
    }
   ],
   "source": [
    "list_ = [1, 2, 3]\n",
    "list_[0] = \"hoge\" #リストの0番に\"hoge\"を代入する\n",
    "print(list_)"
   ]
  },
  {
   "cell_type": "markdown",
   "metadata": {},
   "source": [
    "### 多重リスト\n",
    "リストのリストのことです."
   ]
  },
  {
   "cell_type": "code",
   "execution_count": 41,
   "metadata": {},
   "outputs": [
    {
     "name": "stdout",
     "output_type": "stream",
     "text": [
      "[[1, 2, 3], [4, 5, 6]]\n",
      "<class 'list'>\n"
     ]
    }
   ],
   "source": [
    "list_ = [[1,2,3], [4,5,6]]\n",
    "print(list_)\n",
    "print(type(list_))"
   ]
  },
  {
   "cell_type": "markdown",
   "metadata": {},
   "source": [
    "0番のリストの2番の要素を出力したい時は以下のように指定します"
   ]
  },
  {
   "cell_type": "code",
   "execution_count": 43,
   "metadata": {},
   "outputs": [
    {
     "name": "stdout",
     "output_type": "stream",
     "text": [
      "[[1, 2, 3], [4, 5, 6]]\n",
      "0番のリストの2番の要素: 3\n"
     ]
    }
   ],
   "source": [
    "list_ = [[1,2,3], [4,5,6]]\n",
    "print(list_)\n",
    "print(\"0番のリストの2番の要素:\", list_[0][2])"
   ]
  },
  {
   "cell_type": "markdown",
   "metadata": {},
   "source": [
    "### タプル\n",
    "タプルというデータ構造はリストとほとんど同じですが, イミュータブル(入れ替え不可)という性質を持っています.  \n",
    "タプルは```(,)```で定義することができます. カンマも必要ですので注意してください."
   ]
  },
  {
   "cell_type": "code",
   "execution_count": 47,
   "metadata": {},
   "outputs": [
    {
     "name": "stdout",
     "output_type": "stream",
     "text": [
      "<class 'int'>\n"
     ]
    }
   ],
   "source": [
    "tupple_ = (1)\n",
    "print(type(tupple_))"
   ]
  },
  {
   "cell_type": "code",
   "execution_count": 48,
   "metadata": {},
   "outputs": [
    {
     "name": "stdout",
     "output_type": "stream",
     "text": [
      "<class 'tuple'>\n"
     ]
    }
   ],
   "source": [
    "tupple_ = (1,) #カンマがあることに注意する\n",
    "print(type(tupple_))"
   ]
  },
  {
   "cell_type": "code",
   "execution_count": 50,
   "metadata": {},
   "outputs": [
    {
     "ename": "TypeError",
     "evalue": "'tuple' object does not support item assignment",
     "output_type": "error",
     "traceback": [
      "\u001b[0;31m---------------------------------------------------------------------------\u001b[0m",
      "\u001b[0;31mTypeError\u001b[0m                                 Traceback (most recent call last)",
      "\u001b[1;32m/Users/kurosaki/Documents/code/tutorials/notebook/extra_python.ipynb Cell 43'\u001b[0m in \u001b[0;36m<cell line: 3>\u001b[0;34m()\u001b[0m\n\u001b[1;32m      <a href='vscode-notebook-cell:/Users/kurosaki/Documents/code/tutorials/notebook/extra_python.ipynb#ch0000076?line=0'>1</a>\u001b[0m \u001b[39m# タプルはイミュータブルなので値を入れ替えようとするとエラーがでる.\u001b[39;00m\n\u001b[1;32m      <a href='vscode-notebook-cell:/Users/kurosaki/Documents/code/tutorials/notebook/extra_python.ipynb#ch0000076?line=1'>2</a>\u001b[0m tupple_ \u001b[39m=\u001b[39m (\u001b[39m1\u001b[39m,\u001b[39m2\u001b[39m,\u001b[39m3\u001b[39m)\n\u001b[0;32m----> <a href='vscode-notebook-cell:/Users/kurosaki/Documents/code/tutorials/notebook/extra_python.ipynb#ch0000076?line=2'>3</a>\u001b[0m tupple_[\u001b[39m0\u001b[39m] \u001b[39m=\u001b[39m \u001b[39m'\u001b[39m\u001b[39mhoge\u001b[39m\u001b[39m'\u001b[39m\n",
      "\u001b[0;31mTypeError\u001b[0m: 'tuple' object does not support item assignment"
     ]
    }
   ],
   "source": [
    "# タプルはイミュータブルなので値を入れ替えようとするとエラーがでる.\n",
    "tupple_ = (1,2,3)\n",
    "tupple_[0] = 'hoge'"
   ]
  },
  {
   "cell_type": "code",
   "execution_count": 51,
   "metadata": {},
   "outputs": [
    {
     "name": "stdout",
     "output_type": "stream",
     "text": [
      "1\n"
     ]
    }
   ],
   "source": [
    "# 値の参照方法はリストと一緒\n",
    "tupple_ = (1,2,3)\n",
    "print(tupple_[0])"
   ]
  },
  {
   "cell_type": "markdown",
   "metadata": {},
   "source": [
    "### 辞書\n",
    "辞書とは, 値(value)にタグ(key)をつけながらデータを格納するデータ構造です.  ```{key: value}```により定義することができます."
   ]
  },
  {
   "cell_type": "code",
   "execution_count": 56,
   "metadata": {},
   "outputs": [
    {
     "name": "stdout",
     "output_type": "stream",
     "text": [
      "{'a': 1, 'b': 2, 'c': 3}\n",
      "<class 'dict'>\n"
     ]
    }
   ],
   "source": [
    "dictionary = {'a':1, 'b':2, 'c':3}\n",
    "print(dictionary)\n",
    "print(type(dictionary))"
   ]
  },
  {
   "cell_type": "markdown",
   "metadata": {},
   "source": [
    "辞書に格納された値を参照するには, ```dictionary[key]```のように記述する."
   ]
  },
  {
   "cell_type": "code",
   "execution_count": 57,
   "metadata": {},
   "outputs": [
    {
     "name": "stdout",
     "output_type": "stream",
     "text": [
      "2\n"
     ]
    }
   ],
   "source": [
    "print(dictionary['b'])"
   ]
  },
  {
   "cell_type": "code",
   "execution_count": 59,
   "metadata": {},
   "outputs": [
    {
     "ename": "KeyError",
     "evalue": "1",
     "output_type": "error",
     "traceback": [
      "\u001b[0;31m---------------------------------------------------------------------------\u001b[0m",
      "\u001b[0;31mKeyError\u001b[0m                                  Traceback (most recent call last)",
      "\u001b[1;32m/Users/kurosaki/Documents/code/tutorials/notebook/extra_python.ipynb Cell 49'\u001b[0m in \u001b[0;36m<cell line: 2>\u001b[0;34m()\u001b[0m\n\u001b[1;32m      <a href='vscode-notebook-cell:/Users/kurosaki/Documents/code/tutorials/notebook/extra_python.ipynb#ch0000087?line=0'>1</a>\u001b[0m \u001b[39m# 番号を指定すると怒られる.\u001b[39;00m\n\u001b[0;32m----> <a href='vscode-notebook-cell:/Users/kurosaki/Documents/code/tutorials/notebook/extra_python.ipynb#ch0000087?line=1'>2</a>\u001b[0m \u001b[39mprint\u001b[39m(dictionary[\u001b[39m1\u001b[39;49m])\n",
      "\u001b[0;31mKeyError\u001b[0m: 1"
     ]
    }
   ],
   "source": [
    "# 番号を指定すると怒られる.\n",
    "print(dictionary[1])"
   ]
  },
  {
   "cell_type": "code",
   "execution_count": 92,
   "metadata": {},
   "outputs": [
    {
     "name": "stdout",
     "output_type": "stream",
     "text": [
      "['a', 'b', 'c']\n"
     ]
    }
   ],
   "source": [
    "# keyの一覧を取得\n",
    "print(list(dictionary.keys()))"
   ]
  },
  {
   "cell_type": "code",
   "execution_count": 93,
   "metadata": {},
   "outputs": [
    {
     "name": "stdout",
     "output_type": "stream",
     "text": [
      "[1, 2, 3]\n"
     ]
    }
   ],
   "source": [
    "# valueの一覧を取得\n",
    "print(list(dictionary.values()))"
   ]
  },
  {
   "cell_type": "code",
   "execution_count": 94,
   "metadata": {},
   "outputs": [
    {
     "name": "stdout",
     "output_type": "stream",
     "text": [
      "dict_items([('a', 1), ('b', 2), ('c', 3)])\n"
     ]
    }
   ],
   "source": [
    "# 中身を全て取得\n",
    "print(dictionary.items())"
   ]
  },
  {
   "cell_type": "markdown",
   "metadata": {},
   "source": [
    "### 集合\n",
    "要素（set）はリストと似ていますですが, \n",
    "* 要素の重複が許されない \n",
    "* 要素番号/インデックスが存在しない  \n",
    "\n",
    "という特徴があります.  \n",
    "```{}```で集合を記述することができます."
   ]
  },
  {
   "cell_type": "code",
   "execution_count": 67,
   "metadata": {},
   "outputs": [
    {
     "name": "stdout",
     "output_type": "stream",
     "text": [
      "{1, 2, 3, 'hoge'}\n"
     ]
    }
   ],
   "source": [
    "set_ = {1, 2, 3, 3, 'hoge', 2}\n",
    "print(set_)"
   ]
  },
  {
   "cell_type": "code",
   "execution_count": 71,
   "metadata": {},
   "outputs": [
    {
     "ename": "TypeError",
     "evalue": "'set' object is not subscriptable",
     "output_type": "error",
     "traceback": [
      "\u001b[0;31m---------------------------------------------------------------------------\u001b[0m",
      "\u001b[0;31mTypeError\u001b[0m                                 Traceback (most recent call last)",
      "\u001b[1;32m/Users/kurosaki/Documents/code/tutorials/notebook/extra_python.ipynb Cell 52'\u001b[0m in \u001b[0;36m<cell line: 2>\u001b[0;34m()\u001b[0m\n\u001b[1;32m      <a href='vscode-notebook-cell:/Users/kurosaki/Documents/code/tutorials/notebook/extra_python.ipynb#ch0000092?line=0'>1</a>\u001b[0m \u001b[39m# インデックスが存在しないので, n番目の要素を拾えない\u001b[39;00m\n\u001b[0;32m----> <a href='vscode-notebook-cell:/Users/kurosaki/Documents/code/tutorials/notebook/extra_python.ipynb#ch0000092?line=1'>2</a>\u001b[0m set_[\u001b[39m0\u001b[39;49m]\n",
      "\u001b[0;31mTypeError\u001b[0m: 'set' object is not subscriptable"
     ]
    }
   ],
   "source": [
    "# インデックスが存在しないので, n番目の要素を拾えない\n",
    "set_[0]"
   ]
  },
  {
   "cell_type": "markdown",
   "metadata": {},
   "source": [
    "## 繰り返し\n",
    "Pythonによる反復処理について解説します. ここで紹介するのはwhile文とfor文の２種類です. 述べたデータ構造をうまく用いることで綺麗にコードを書くことができます."
   ]
  },
  {
   "cell_type": "markdown",
   "metadata": {},
   "source": [
    "### while\n",
    "```\n",
    "while 条件式:\n",
    "    処理1\n",
    "    処理2\n",
    "    .\n",
    "    .\n",
    "    .\n",
    "```\n",
    "のような形で書くことで, 条件式の内容が満たされている間は処理を繰り返します.  \n",
    "while文の中身は, インデント(空白)によって他のコードと区別させなくてはなりません."
   ]
  },
  {
   "cell_type": "code",
   "execution_count": 79,
   "metadata": {},
   "outputs": [
    {
     "name": "stdout",
     "output_type": "stream",
     "text": [
      "0\n",
      "1\n",
      "2\n",
      "3\n",
      "4\n",
      "5\n",
      "6\n",
      "7\n",
      "8\n",
      "9\n"
     ]
    }
   ],
   "source": [
    "i = 0 # i(whle文で用いる変数)の初期化\n",
    "while i < 10: # iが10未満の間は以下の処理が繰り返される\n",
    "    print(i) # インデント注意\n",
    "    i = i + 1 # iに１加える"
   ]
  },
  {
   "cell_type": "markdown",
   "metadata": {},
   "source": [
    "### for\n",
    "```\n",
    "for 変数名 in 要素:\n",
    "    処理1\n",
    "    処理2\n",
    "    .\n",
    "    .\n",
    "    .\n",
    "```\n",
    "のような形で書くことで, 先に宣言した変数名に, 繰り返し処理ごとに, 要素から１つずつ値が代入されます."
   ]
  },
  {
   "cell_type": "code",
   "execution_count": 82,
   "metadata": {},
   "outputs": [
    {
     "name": "stdout",
     "output_type": "stream",
     "text": [
      "0\n",
      "1\n",
      "2\n",
      "3\n",
      "4\n",
      "5\n",
      "6\n",
      "7\n",
      "8\n",
      "9\n"
     ]
    }
   ],
   "source": [
    "for i in range(10):\n",
    "    print(i)"
   ]
  },
  {
   "cell_type": "markdown",
   "metadata": {},
   "source": [
    "```range(10)```の中身は0~9までの値が入っています."
   ]
  },
  {
   "cell_type": "code",
   "execution_count": 84,
   "metadata": {},
   "outputs": [
    {
     "name": "stdout",
     "output_type": "stream",
     "text": [
      "[0, 1, 2, 3, 4, 5, 6, 7, 8, 9]\n"
     ]
    }
   ],
   "source": [
    "print(list(range(10)))"
   ]
  },
  {
   "cell_type": "markdown",
   "metadata": {},
   "source": [
    "```range(10)```の部分をリストに変えてfor文を回すことができます."
   ]
  },
  {
   "cell_type": "code",
   "execution_count": 86,
   "metadata": {},
   "outputs": [
    {
     "name": "stdout",
     "output_type": "stream",
     "text": [
      "1\n",
      "2\n",
      "3\n",
      "hoge\n"
     ]
    }
   ],
   "source": [
    "list_ = [1, 2, 3, 'hoge']\n",
    "for i in list_:\n",
    "    print(i)"
   ]
  },
  {
   "cell_type": "markdown",
   "metadata": {},
   "source": [
    "range(10)の部分を辞書に変えてfor文を回すことができます."
   ]
  },
  {
   "cell_type": "code",
   "execution_count": 98,
   "metadata": {},
   "outputs": [
    {
     "name": "stdout",
     "output_type": "stream",
     "text": [
      "--------------------------------------------------\n",
      "a\n",
      "b\n",
      "c\n",
      "--------------------------------------------------\n",
      "1\n",
      "2\n",
      "hoge\n",
      "--------------------------------------------------\n",
      "a 1\n",
      "b 2\n",
      "c hoge\n"
     ]
    }
   ],
   "source": [
    "dict_ = {'a':1, 'b':2, 'c':'hoge'}\n",
    "\n",
    "# keyを１つづつ取得する\n",
    "print('-'*50)\n",
    "for k in dict_.keys():\n",
    "    print(k)\n",
    "\n",
    "# valueを１つづつ取得する\n",
    "print('-'*50)\n",
    "for v in dict_.values():\n",
    "    print(v)\n",
    "\n",
    "# key と value を１つずつ取得し, ２変数でfor文を回す\n",
    "print('-'*50)\n",
    "for k, v in dict_.items():\n",
    "    print(k, v)"
   ]
  },
  {
   "cell_type": "markdown",
   "metadata": {},
   "source": [
    "データ数が同じ複数のリストを```zip()```でまとめることで, 複数変数のfor文が書ける"
   ]
  },
  {
   "cell_type": "code",
   "execution_count": 99,
   "metadata": {},
   "outputs": [
    {
     "name": "stdout",
     "output_type": "stream",
     "text": [
      "1 4 7\n",
      "2 5 8\n",
      "3 6 9\n"
     ]
    }
   ],
   "source": [
    "list_1 = [1, 2, 3]\n",
    "list_2 = [4, 5, 6]\n",
    "list_3 = [7, 8, 9]\n",
    "\n",
    "for x1, x2, x3 in zip(list_1, list_2, list_3):\n",
    "    print(x1, x2, x3)"
   ]
  },
  {
   "cell_type": "code",
   "execution_count": null,
   "metadata": {},
   "outputs": [],
   "source": []
  }
 ],
 "metadata": {
  "kernelspec": {
   "display_name": "Python 3.9.13 64-bit",
   "language": "python",
   "name": "python3"
  },
  "language_info": {
   "codemirror_mode": {
    "name": "ipython",
    "version": 3
   },
   "file_extension": ".py",
   "mimetype": "text/x-python",
   "name": "python",
   "nbconvert_exporter": "python",
   "pygments_lexer": "ipython3",
   "version": "3.9.13"
  },
  "orig_nbformat": 4,
  "vscode": {
   "interpreter": {
    "hash": "aee8b7b246df8f9039afb4144a1f6fd8d2ca17a180786b69acc140d282b71a49"
   }
  }
 },
 "nbformat": 4,
 "nbformat_minor": 2
}
