{
 "cells": [
  {
   "attachments": {},
   "cell_type": "markdown",
   "metadata": {},
   "source": [
    "# 化合物の記法とデータ構造\n",
    "これまで触れませんでしたが, 今回はコンピュータに化学構造を読み込ませるための記法や化合物に対してよく用いられるデータ構造について解説します. 化合物のデータ構造を学ぶことは, 化学構造記述子の理解につながるだけでなく, 近年飛躍的に発展を遂げているDeep Learningを用いたケモインフォマティクスの理解にもつながります. 10年前くらいまではケモインフォマティクスといえばフィンガープリントや化学構造記述子を用いることが一般的でした(今でも一般的です)が, 最近の深層学習の発展に伴って, **End to End** (化合物を記述子など何かしらの特徴量に変換せずとも, 化合物のデータ構造から特徴を学習し予測することを指す) の予測ができるようになりました. もちろん, 化学構造記述子を理解する上でも化合物のデータ構造についての理解は必要ですが, Deep Learningの技術が飛躍的に伸びている昨今, コンピュータ上での化合物の記法やデータ構造に対する理解はますます重要性を増しています."
   ]
  },
  {
   "attachments": {},
   "cell_type": "markdown",
   "metadata": {},
   "source": [
    "### 1. SMILES記法\n",
    "SMILES記法は, 化合物の２次元構造情報を１次元の文字列に変換した表記法の１つです. 多くのケモインフォマティクスツールで取り扱われているものです. 一定の規則に基づいて化学構造を文字列に変換したもので, 規則を理解していれば人間が読み解くことも可能です. 近年では, このような化合物に関する規則性のある文字列を, 人間の言語を学習するような深層学習モデルで扱うことで, まるで言語を扱うように化学構造を認識させ物性を予測させる手法が存在します. そのため, SMILESがどのようなデータであるかを理解することで, ケモインフォマティクスに関する論文にもキャッチアップやすくなるでしょう.  \n",
    "ここでは, いくつかの化学構造を例に, SMILES記法について学んでいきます."
   ]
  },
  {
   "attachments": {},
   "cell_type": "markdown",
   "metadata": {},
   "source": [
    "**規則1**  \n",
    "水素原子は省略する.\n",
    "\n",
    "**例1**  \n",
    "「CH4」で考えてみましょう. Hは省略されるはずですから, 「C」と表記するのみで良いはずです."
   ]
  },
  {
   "cell_type": "code",
   "execution_count": 10,
   "metadata": {},
   "outputs": [
    {
     "data": {
      "image/png": "[encoded data removed]",
      "text/plain": [
       "<rdkit.Chem.rdchem.Mol at 0x7f92a3637b20>"
      ]
     },
     "execution_count": 10,
     "metadata": {},
     "output_type": "execute_result"
    }
   ],
   "source": [
    "from rdkit import Chem\n",
    "mol = Chem.MolFromSmiles('C')\n",
    "mol"
   ]
  },
  {
   "attachments": {},
   "cell_type": "markdown",
   "metadata": {},
   "source": [
    "**規則2**  \n",
    "直鎖構造は, 元素記号を並べて表記する.  \n",
    "\n",
    "**例2**  \n",
    "「CH3CH2CH3」で考えてみましょう.  \n",
    "Hは省略すれば良い. 直鎖構造は並べるだけで良いという規則に基づくと, 以下のようにSMILESを構築すれば良いはずです."
   ]
  },
  {
   "cell_type": "code",
   "execution_count": 14,
   "metadata": {},
   "outputs": [
    {
     "data": {
      "image/png": "[encoded data removed]",
      "text/plain": [
       "<rdkit.Chem.rdchem.Mol at 0x7f92a3718e20>"
      ]
     },
     "execution_count": 14,
     "metadata": {},
     "output_type": "execute_result"
    }
   ],
   "source": [
    "Chem.MolFromSmiles('CCC')"
   ]
  },
  {
   "attachments": {},
   "cell_type": "markdown",
   "metadata": {},
   "source": [
    "また, 末端にアミンを付け加えたい場合は, Nを追記すれば良いだけです."
   ]
  },
  {
   "cell_type": "code",
   "execution_count": 15,
   "metadata": {},
   "outputs": [
    {
     "data": {
      "image/png": "[encoded data removed]",
      "text/plain": [
       "<rdkit.Chem.rdchem.Mol at 0x7f92a194af40>"
      ]
     },
     "execution_count": 15,
     "metadata": {},
     "output_type": "execute_result"
    }
   ],
   "source": [
    "Chem.MolFromSmiles('CCCN')"
   ]
  },
  {
   "attachments": {},
   "cell_type": "markdown",
   "metadata": {},
   "source": [
    "**規則３**  \n",
    "分岐は()を用いて表記する  \n",
    "\n",
    "**例３**  \n",
    "  "
   ]
  },
  {
   "cell_type": "code",
   "execution_count": 19,
   "metadata": {},
   "outputs": [
    {
     "data": {
      "image/png": "[encoded data removed]",
      "text/plain": [
       "<rdkit.Chem.rdchem.Mol at 0x7f92a377cdc0>"
      ]
     },
     "execution_count": 19,
     "metadata": {},
     "output_type": "execute_result"
    }
   ],
   "source": [
    "Chem.MolFromSmiles('CCC(N)C')"
   ]
  },
  {
   "cell_type": "code",
   "execution_count": null,
   "metadata": {},
   "outputs": [],
   "source": []
  },
  {
   "cell_type": "code",
   "execution_count": null,
   "metadata": {},
   "outputs": [],
   "source": []
  },
  {
   "cell_type": "code",
   "execution_count": null,
   "metadata": {},
   "outputs": [],
   "source": []
  },
  {
   "cell_type": "code",
   "execution_count": null,
   "metadata": {},
   "outputs": [],
   "source": []
  },
  {
   "cell_type": "code",
   "execution_count": null,
   "metadata": {},
   "outputs": [],
   "source": []
  },
  {
   "cell_type": "markdown",
   "metadata": {},
   "source": []
  },
  {
   "attachments": {},
   "cell_type": "markdown",
   "metadata": {},
   "source": [
    "### 3. SELFIES記法"
   ]
  },
  {
   "cell_type": "markdown",
   "metadata": {},
   "source": []
  },
  {
   "attachments": {},
   "cell_type": "markdown",
   "metadata": {},
   "source": [
    "### 4. グラフ構造"
   ]
  }
 ],
 "metadata": {
  "kernelspec": {
   "display_name": "ml",
   "language": "python",
   "name": "python3"
  },
  "language_info": {
   "codemirror_mode": {
    "name": "ipython",
    "version": 3
   },
   "file_extension": ".py",
   "mimetype": "text/x-python",
   "name": "python",
   "nbconvert_exporter": "python",
   "pygments_lexer": "ipython3",
   "version": "3.8.12"
  },
  "orig_nbformat": 4,
  "vscode": {
   "interpreter": {
    "hash": "1e0306bb1af38b4ca9ceaf958b73c1bde12b3c706591eaefca5d226607460f3d"
   }
  }
 },
 "nbformat": 4,
 "nbformat_minor": 2
}
